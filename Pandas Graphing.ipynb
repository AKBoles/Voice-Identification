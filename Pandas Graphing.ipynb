{
 "cells": [
  {
   "cell_type": "code",
   "execution_count": 24,
   "metadata": {
    "collapsed": true
   },
   "outputs": [],
   "source": [
    "import seaborn as sns\n",
    "import pandas as pd\n",
    "import IPython.display\n",
    "import numpy as np\n",
    "import matplotlib.pyplot as plt\n",
    "import matplotlib.style as ms"
   ]
  },
  {
   "cell_type": "code",
   "execution_count": 30,
   "metadata": {
    "collapsed": true
   },
   "outputs": [],
   "source": [
    "text = '/home/cc/Voice-Identification/speaker10_training.log'"
   ]
  },
  {
   "cell_type": "code",
   "execution_count": 31,
   "metadata": {
    "collapsed": true
   },
   "outputs": [],
   "source": [
    "df = pd.read_csv(text)"
   ]
  },
  {
   "cell_type": "code",
   "execution_count": 32,
   "metadata": {
    "collapsed": true
   },
   "outputs": [],
   "source": [
    "df = df.rename(columns={'acc':'Training Acc', 'loss': 'Training Loss', 'val_acc':'Validation Acc', 'val_loss':'Validation Loss'})"
   ]
  },
  {
   "cell_type": "code",
   "execution_count": 33,
   "metadata": {},
   "outputs": [
    {
     "data": {
      "text/html": [
       "<div>\n",
       "<table border=\"1\" class=\"dataframe\">\n",
       "  <thead>\n",
       "    <tr style=\"text-align: right;\">\n",
       "      <th></th>\n",
       "      <th>epoch</th>\n",
       "      <th>Training Acc</th>\n",
       "      <th>Training Loss</th>\n",
       "      <th>Validation Acc</th>\n",
       "      <th>Validation Loss</th>\n",
       "    </tr>\n",
       "  </thead>\n",
       "  <tbody>\n",
       "    <tr>\n",
       "      <th>0</th>\n",
       "      <td>0</td>\n",
       "      <td>0.337719</td>\n",
       "      <td>2.016422</td>\n",
       "      <td>0.779070</td>\n",
       "      <td>0.776449</td>\n",
       "    </tr>\n",
       "    <tr>\n",
       "      <th>1</th>\n",
       "      <td>1</td>\n",
       "      <td>0.788012</td>\n",
       "      <td>0.647710</td>\n",
       "      <td>0.895349</td>\n",
       "      <td>0.327201</td>\n",
       "    </tr>\n",
       "    <tr>\n",
       "      <th>2</th>\n",
       "      <td>2</td>\n",
       "      <td>0.884503</td>\n",
       "      <td>0.330732</td>\n",
       "      <td>0.953488</td>\n",
       "      <td>0.219564</td>\n",
       "    </tr>\n",
       "    <tr>\n",
       "      <th>3</th>\n",
       "      <td>3</td>\n",
       "      <td>0.935673</td>\n",
       "      <td>0.198895</td>\n",
       "      <td>0.918605</td>\n",
       "      <td>0.212255</td>\n",
       "    </tr>\n",
       "    <tr>\n",
       "      <th>4</th>\n",
       "      <td>4</td>\n",
       "      <td>0.954678</td>\n",
       "      <td>0.142989</td>\n",
       "      <td>0.941860</td>\n",
       "      <td>0.190121</td>\n",
       "    </tr>\n",
       "    <tr>\n",
       "      <th>5</th>\n",
       "      <td>5</td>\n",
       "      <td>0.970760</td>\n",
       "      <td>0.097007</td>\n",
       "      <td>0.930233</td>\n",
       "      <td>0.172630</td>\n",
       "    </tr>\n",
       "    <tr>\n",
       "      <th>6</th>\n",
       "      <td>6</td>\n",
       "      <td>0.973684</td>\n",
       "      <td>0.093890</td>\n",
       "      <td>0.953488</td>\n",
       "      <td>0.166869</td>\n",
       "    </tr>\n",
       "    <tr>\n",
       "      <th>7</th>\n",
       "      <td>7</td>\n",
       "      <td>0.983918</td>\n",
       "      <td>0.070073</td>\n",
       "      <td>0.941860</td>\n",
       "      <td>0.160245</td>\n",
       "    </tr>\n",
       "    <tr>\n",
       "      <th>8</th>\n",
       "      <td>8</td>\n",
       "      <td>0.988304</td>\n",
       "      <td>0.047548</td>\n",
       "      <td>0.965116</td>\n",
       "      <td>0.138859</td>\n",
       "    </tr>\n",
       "    <tr>\n",
       "      <th>9</th>\n",
       "      <td>9</td>\n",
       "      <td>0.988304</td>\n",
       "      <td>0.042477</td>\n",
       "      <td>0.953488</td>\n",
       "      <td>0.130341</td>\n",
       "    </tr>\n",
       "    <tr>\n",
       "      <th>10</th>\n",
       "      <td>10</td>\n",
       "      <td>0.995614</td>\n",
       "      <td>0.031284</td>\n",
       "      <td>0.965116</td>\n",
       "      <td>0.126845</td>\n",
       "    </tr>\n",
       "    <tr>\n",
       "      <th>11</th>\n",
       "      <td>11</td>\n",
       "      <td>0.989766</td>\n",
       "      <td>0.032881</td>\n",
       "      <td>0.965116</td>\n",
       "      <td>0.118630</td>\n",
       "    </tr>\n",
       "    <tr>\n",
       "      <th>12</th>\n",
       "      <td>12</td>\n",
       "      <td>0.992690</td>\n",
       "      <td>0.024677</td>\n",
       "      <td>0.976744</td>\n",
       "      <td>0.089497</td>\n",
       "    </tr>\n",
       "    <tr>\n",
       "      <th>13</th>\n",
       "      <td>13</td>\n",
       "      <td>0.997076</td>\n",
       "      <td>0.030279</td>\n",
       "      <td>0.953488</td>\n",
       "      <td>0.095983</td>\n",
       "    </tr>\n",
       "    <tr>\n",
       "      <th>14</th>\n",
       "      <td>14</td>\n",
       "      <td>0.994152</td>\n",
       "      <td>0.021925</td>\n",
       "      <td>0.953488</td>\n",
       "      <td>0.116793</td>\n",
       "    </tr>\n",
       "  </tbody>\n",
       "</table>\n",
       "</div>"
      ],
      "text/plain": [
       "    epoch  Training Acc  Training Loss  Validation Acc  Validation Loss\n",
       "0       0      0.337719       2.016422        0.779070         0.776449\n",
       "1       1      0.788012       0.647710        0.895349         0.327201\n",
       "2       2      0.884503       0.330732        0.953488         0.219564\n",
       "3       3      0.935673       0.198895        0.918605         0.212255\n",
       "4       4      0.954678       0.142989        0.941860         0.190121\n",
       "5       5      0.970760       0.097007        0.930233         0.172630\n",
       "6       6      0.973684       0.093890        0.953488         0.166869\n",
       "7       7      0.983918       0.070073        0.941860         0.160245\n",
       "8       8      0.988304       0.047548        0.965116         0.138859\n",
       "9       9      0.988304       0.042477        0.953488         0.130341\n",
       "10     10      0.995614       0.031284        0.965116         0.126845\n",
       "11     11      0.989766       0.032881        0.965116         0.118630\n",
       "12     12      0.992690       0.024677        0.976744         0.089497\n",
       "13     13      0.997076       0.030279        0.953488         0.095983\n",
       "14     14      0.994152       0.021925        0.953488         0.116793"
      ]
     },
     "execution_count": 33,
     "metadata": {},
     "output_type": "execute_result"
    }
   ],
   "source": [
    "df"
   ]
  },
  {
   "cell_type": "code",
   "execution_count": 34,
   "metadata": {},
   "outputs": [
    {
     "data": {
      "image/png": "[encoded data removed]",
      "text/plain": [
       "<matplotlib.figure.Figure at 0x7f4f97008990>"
      ]
     },
     "metadata": {},
     "output_type": "display_data"
    }
   ],
   "source": [
    "p = df.plot(x='epoch', ylim=(0, 1.5))\n",
    "p.set_axis_bgcolor('w')\n",
    "p.grid(color='k', linestyle='--', linewidth=0.25)\n",
    "plt.xlabel('Epochs')\n",
    "plt.ylabel('Accuracy and Loss Values')\n",
    "plt.show()"
   ]
  },
  {
   "cell_type": "code",
   "execution_count": null,
   "metadata": {
    "collapsed": true
   },
   "outputs": [],
   "source": []
  }
 ],
 "metadata": {
  "kernelspec": {
   "display_name": "Python 2",
   "language": "python",
   "name": "python2"
  },
  "language_info": {
   "codemirror_mode": {
    "name": "ipython",
    "version": 2
   },
   "file_extension": ".py",
   "mimetype": "text/x-python",
   "name": "python",
   "nbconvert_exporter": "python",
   "pygments_lexer": "ipython2",
   "version": "2.7.12"
  }
 },
 "nbformat": 4,
 "nbformat_minor": 2
}
